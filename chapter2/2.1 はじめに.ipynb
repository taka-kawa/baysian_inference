{
 "cells": [
  {
   "cell_type": "markdown",
   "metadata": {
    "editable": true
   },
   "source": [
    "# 親子関係\n",
    "- 親変数:他の変数に影響を与える変数\n",
    "- 子変数:他の変数から影響を受ける変数"
   ]
  },
  {
   "cell_type": "code",
   "execution_count": 1,
   "metadata": {
    "collapsed": true
   },
   "outputs": [],
   "source": [
    "# import\n",
    "import numpy as np\n",
    "import scipy\n",
    "import pymc as pm\n",
    "\n",
    "from IPython.core.pylabtools import figsize\n",
    "from os import makedirs\n",
    "from urllib.request import urlretrieve\n",
    "from matplotlib import pyplot as plt\n",
    "%matplotlib inline"
   ]
  },
  {
   "cell_type": "markdown",
   "metadata": {},
   "source": [
    "- lambda_がdata_generatorの親\n",
    "- data_generatorはdata_plus_oneの親"
   ]
  },
  {
   "cell_type": "code",
   "execution_count": 10,
   "metadata": {
    "collapsed": false
   },
   "outputs": [
    {
     "name": "stdout",
     "output_type": "stream",
     "text": [
      "Children of `parameter`: \n",
      "{<pymc.distributions.new_dist_class.<locals>.new_class 'data_generator' at 0x10c2f3a58>}\n",
      "\n",
      "Parents of `data_generator`: \n",
      "{'mu': <pymc.distributions.new_dist_class.<locals>.new_class 'poisson_param' at 0x102e43e80>}\n",
      "\n",
      "Children of `data_generator`: \n",
      "{<pymc.PyMCObjects.Deterministic '(data_generator_add_1)' at 0x1035b9da0>}\n"
     ]
    }
   ],
   "source": [
    "lambda_ = pm.Exponential(\"poisson_param\", 1)\n",
    "\n",
    "# これは次の変数を生成する関数呼び出しに使われている\n",
    "data_generator = pm.Poisson(\"data_generator\", lambda_)\n",
    "data_plus_one = data_generator + 1\n",
    "\n",
    "print(\"Children of `parameter`: \")\n",
    "print(lambda_.children)\n",
    "print(\"\\nParents of `data_generator`: \")\n",
    "print(data_generator.parents)\n",
    "print(\"\\nChildren of `data_generator`: \")\n",
    "print(data_generator.children)"
   ]
  },
  {
   "cell_type": "markdown",
   "metadata": {},
   "source": [
    "# PyMC変数\n",
    "- 全てのPyMC変数はvalueプロパティ(現在の内部状態)を持っている"
   ]
  },
  {
   "cell_type": "code",
   "execution_count": 11,
   "metadata": {
    "collapsed": false
   },
   "outputs": [
    {
     "name": "stdout",
     "output_type": "stream",
     "text": [
      "lambda_.value = 0.9792564385053757\n",
      "data_generator.value = 2\n",
      "data_plus_one.value = 3\n"
     ]
    }
   ],
   "source": [
    "print(\"lambda_.value =\", lambda_.value)\n",
    "print(\"data_generator.value =\", data_generator.value)\n",
    "print(\"data_plus_one.value =\", data_plus_one.value)"
   ]
  },
  {
   "cell_type": "markdown",
   "metadata": {},
   "source": [
    "PyMC変数にはstochasticとdeterministicの2種類がある\n",
    "\n",
    "- stochastic変数:親変数の値を知っていたとしても、その変数の値は依然としてランダムである変数\n",
    "- deterministic変数:親変数の値が分かっていれば、その値が決まる変数"
   ]
  },
  {
   "cell_type": "markdown",
   "metadata": {},
   "source": [
    "## stochastic変数の初期化"
   ]
  },
  {
   "cell_type": "code",
   "execution_count": 14,
   "metadata": {
    "collapsed": false
   },
   "outputs": [
    {
     "name": "stdout",
     "output_type": "stream",
     "text": [
      "Help on DiscreteUniform in module pymc.distributions object:\n",
      "\n",
      "discrete_uni_var = class DiscreteUniform(pymc.PyMCObjects.Stochastic)\n",
      " |  D = DiscreteUniform(name, lower, upper, value=None, observed=False, size=1, trace=True, rseed=True, doc=None, verbose=-1, debug=False)\n",
      " |  \n",
      " |  Stochastic variable with DiscreteUniform distribution.\n",
      " |  Parents are: lower, upper.\n",
      " |  \n",
      " |  Docstring of log-probability function:\n",
      " |  \n",
      " |      Discrete uniform log-likelihood.\n",
      " |  \n",
      " |      .. math::\n",
      " |          f(x \\mid lower, upper) = \\frac{1}{upper-lower}\n",
      " |  \n",
      " |      :Parameters:\n",
      " |        - `x` : [int] :math:`lower \\leq x \\leq upper`\n",
      " |        - `lower` : Lower limit.\n",
      " |        - `upper` : Upper limit (upper > lower).\n",
      " |  \n",
      " |  Method resolution order:\n",
      " |      DiscreteUniform\n",
      " |      pymc.PyMCObjects.Stochastic\n",
      " |      pymc.Node.StochasticBase\n",
      " |      pymc.six.NewBase\n",
      " |      pymc.Node.Variable\n",
      " |      pymc.Node.Node\n",
      " |      builtins.object\n",
      " |  \n",
      " |  Methods defined here:\n",
      " |  \n",
      " |  __init__(self, *args, **kwds)\n",
      " |  \n",
      " |  ----------------------------------------------------------------------\n",
      " |  Data and other attributes defined here:\n",
      " |  \n",
      " |  dtype = <class 'int'>\n",
      " |      int(x=0) -> integer\n",
      " |      int(x, base=10) -> integer\n",
      " |      \n",
      " |      Convert a number or string to an integer, or return 0 if no arguments\n",
      " |      are given.  If x is a number, return x.__int__().  For floating point\n",
      " |      numbers, this truncates towards zero.\n",
      " |      \n",
      " |      If x is not a number or if base is given, then x must be a string,\n",
      " |      bytes, or bytearray instance representing an integer literal in the\n",
      " |      given base.  The literal can be preceded by '+' or '-' and be surrounded\n",
      " |      by whitespace.  The base defaults to 10.  Valid bases are 0 and 2-36.\n",
      " |      Base 0 means to interpret the base from the string as an integer literal.\n",
      " |      >>> int('0b100', base=0)\n",
      " |      4\n",
      " |  \n",
      " |  mv = False\n",
      " |  \n",
      " |  parent_names = ['lower', 'upper']\n",
      " |  \n",
      " |  parents_default = {'lower': 0, 'upper': 4}\n",
      " |  \n",
      " |  raw_fns = {'logp': <function valuewrapper.<locals>.wrapper>, 'random':...\n",
      " |  \n",
      " |  ----------------------------------------------------------------------\n",
      " |  Methods inherited from pymc.PyMCObjects.Stochastic:\n",
      " |  \n",
      " |  gen_lazy_function(self)\n",
      " |      Will be called by Node at instantiation.\n",
      " |  \n",
      " |  get_logp(self)\n",
      " |  \n",
      " |  get_stoch_value(self)\n",
      " |  \n",
      " |  get_value(self)\n",
      " |  \n",
      " |  logp_gradient_contribution(self, calculation_set=None)\n",
      " |      Calculates the gradient of the joint log posterior with respect to self.\n",
      " |      Calculation of the log posterior is restricted to the variables in calculation_set.\n",
      " |  \n",
      " |  logp_partial_gradient(self, variable, calculation_set=None)\n",
      " |      Calculates the partial gradient of the posterior of self with respect to variable.\n",
      " |      Returns zero if self is not in calculation_set.\n",
      " |  \n",
      " |  rand = random(self)\n",
      " |      Draws a new value for a stoch conditional on its parents\n",
      " |      and returns it.\n",
      " |      \n",
      " |      Raises an error if no 'random' argument was passed to __init__.\n",
      " |  \n",
      " |  random(self)\n",
      " |      Draws a new value for a stoch conditional on its parents\n",
      " |      and returns it.\n",
      " |      \n",
      " |      Raises an error if no 'random' argument was passed to __init__.\n",
      " |  \n",
      " |  revert(self)\n",
      " |      Sets self's value to self's last value. Bypasses the data cleaning in\n",
      " |      the set_value method.\n",
      " |  \n",
      " |  set_logp(self, new_logp)\n",
      " |  \n",
      " |  set_value(self, value, force=False)\n",
      " |  \n",
      " |  ----------------------------------------------------------------------\n",
      " |  Data descriptors inherited from pymc.PyMCObjects.Stochastic:\n",
      " |  \n",
      " |  coparents\n",
      " |      All the variables whose extended children intersect with self's.\n",
      " |  \n",
      " |  isdata\n",
      " |  \n",
      " |  logp\n",
      " |      Log-probability or log-density of self's current value\n",
      " |      given values of parents.\n",
      " |  \n",
      " |  markov_blanket\n",
      " |      Self's coparents, self's extended parents, self's children and self.\n",
      " |  \n",
      " |  mask\n",
      " |      Returns the mask for missing values\n",
      " |  \n",
      " |  moral_neighbors\n",
      " |      Self's neighbors in the moral graph: self's Markov blanket with self removed.\n",
      " |  \n",
      " |  observed\n",
      " |  \n",
      " |  shape\n",
      " |      The shape of the value of self.\n",
      " |  \n",
      " |  value\n",
      " |      Self's current value.\n",
      " |  \n",
      " |  ----------------------------------------------------------------------\n",
      " |  Data and other attributes inherited from pymc.PyMCObjects.Stochastic:\n",
      " |  \n",
      " |  __array_priority__ = 1000\n",
      " |  \n",
      " |  ----------------------------------------------------------------------\n",
      " |  Methods inherited from pymc.Node.Variable:\n",
      " |  \n",
      " |  __abs__(self)\n",
      " |  \n",
      " |  __add__(self, other, prefix='')\n",
      " |  \n",
      " |  __and__(self, other, prefix='')\n",
      " |  \n",
      " |  __call__(self, *args, **kwargs)\n",
      " |  \n",
      " |  __complex__(self, op=<class 'complex'>)\n",
      " |  \n",
      " |  __divmod__(self, other, prefix='')\n",
      " |  \n",
      " |  __float__(self, op=<class 'float'>)\n",
      " |  \n",
      " |  __floordiv__(self, other, prefix='')\n",
      " |  \n",
      " |  __ge__(self, other)\n",
      " |  \n",
      " |  __getitem__(self, index)\n",
      " |      # Create __getitem__ method.\n",
      " |  \n",
      " |  __gt__(self, other)\n",
      " |  \n",
      " |  __hex__(self, op=<built-in function hex>)\n",
      " |  \n",
      " |  __iadd__(self, *args)\n",
      " |  \n",
      " |  __iand__(self, *args)\n",
      " |  \n",
      " |  __idiv__(self, *args)\n",
      " |  \n",
      " |  __ifloordiv__(self, *args)\n",
      " |  \n",
      " |  __ilshift__(self, *args)\n",
      " |  \n",
      " |  __imod__(self, *args)\n",
      " |  \n",
      " |  __imul__(self, *args)\n",
      " |  \n",
      " |  __int__(self, op=<class 'int'>)\n",
      " |  \n",
      " |  __invert__(self)\n",
      " |  \n",
      " |  __ior__(self, *args)\n",
      " |  \n",
      " |  __ipow__(self, *args)\n",
      " |  \n",
      " |  __irshift__(self, *args)\n",
      " |  \n",
      " |  __isub__(self, *args)\n",
      " |  \n",
      " |  __iter__(self, op=<built-in function iter>)\n",
      " |  \n",
      " |  __itruediv__(self, *args)\n",
      " |  \n",
      " |  __ixor__(self, *args)\n",
      " |  \n",
      " |  __le__(self, other)\n",
      " |  \n",
      " |  __lshift__(self, other, prefix='')\n",
      " |  \n",
      " |  __lt__(self, other)\n",
      " |  \n",
      " |  __mod__(self, other, prefix='')\n",
      " |  \n",
      " |  __mul__(self, other, prefix='')\n",
      " |  \n",
      " |  __ne__(self, other)\n",
      " |  \n",
      " |  __neg__(self)\n",
      " |  \n",
      " |  __oct__(self, op=<built-in function oct>)\n",
      " |  \n",
      " |  __or__(self, other, prefix='')\n",
      " |  \n",
      " |  __pow__(self, other, prefix='')\n",
      " |  \n",
      " |  __radd__(self, other, prefix='r')\n",
      " |  \n",
      " |  __rand__(self, other, prefix='r')\n",
      " |  \n",
      " |  __rdivmod__(self, other, prefix='r')\n",
      " |  \n",
      " |  __rfloordiv__(self, other, prefix='r')\n",
      " |  \n",
      " |  __rlshift__(self, other, prefix='r')\n",
      " |  \n",
      " |  __rmod__(self, other, prefix='r')\n",
      " |  \n",
      " |  __rmul__(self, other, prefix='r')\n",
      " |  \n",
      " |  __ror__(self, other, prefix='r')\n",
      " |  \n",
      " |  __rpow__(self, other, prefix='r')\n",
      " |  \n",
      " |  __rrshift__(self, other, prefix='r')\n",
      " |  \n",
      " |  __rshift__(self, other, prefix='')\n",
      " |  \n",
      " |  __rsub__(self, other, prefix='r')\n",
      " |  \n",
      " |  __rtruediv__(self, other, prefix='r')\n",
      " |  \n",
      " |  __rxor__(self, other, prefix='r')\n",
      " |  \n",
      " |  __str__(self)\n",
      " |      Return str(self).\n",
      " |  \n",
      " |  __sub__(self, other, prefix='')\n",
      " |  \n",
      " |  __truediv__(self, other, prefix='')\n",
      " |  \n",
      " |  __xor__(self, other, prefix='')\n",
      " |  \n",
      " |  stats(self, alpha=0.05, start=0, batches=100, chain=None, quantiles=(2.5, 25, 50, 75, 97.5))\n",
      " |      Generate posterior statistics for node.\n",
      " |      \n",
      " |      :Parameters:\n",
      " |      alpha : float\n",
      " |        The alpha level for generating posterior intervals. Defaults to\n",
      " |        0.05.\n",
      " |      \n",
      " |      start : int\n",
      " |        The starting index from which to summarize (each) chain. Defaults\n",
      " |        to zero.\n",
      " |      \n",
      " |      batches : int\n",
      " |        Batch size for calculating standard deviation for non-independent\n",
      " |        samples. Defaults to 100.\n",
      " |      \n",
      " |      chain : int\n",
      " |        The index for which chain to summarize. Defaults to None (all\n",
      " |        chains).\n",
      " |      \n",
      " |      quantiles : tuple or list\n",
      " |        The desired quantiles to be calculated. Defaults to (2.5, 25, 50, 75, 97.5).\n",
      " |  \n",
      " |  summary(self, alpha=0.05, start=0, batches=100, chain=None, roundto=3)\n",
      " |      Generate a pretty-printed summary of the node.\n",
      " |      \n",
      " |      :Parameters:\n",
      " |      alpha : float\n",
      " |        The alpha level for generating posterior intervals. Defaults to\n",
      " |        0.05.\n",
      " |      \n",
      " |      start : int\n",
      " |        The starting index from which to summarize (each) chain. Defaults\n",
      " |        to zero.\n",
      " |      \n",
      " |      batches : int\n",
      " |        Batch size for calculating standard deviation for non-independent\n",
      " |        samples. Defaults to 100.\n",
      " |      \n",
      " |      chain : int\n",
      " |        The index for which chain to summarize. Defaults to None (all\n",
      " |        chains).\n",
      " |      \n",
      " |      roundto : int\n",
      " |        The number of digits to round posterior statistics.\n",
      " |  \n",
      " |  ----------------------------------------------------------------------\n",
      " |  Data descriptors inherited from pymc.Node.Variable:\n",
      " |  \n",
      " |  plot\n",
      " |      A flag indicating whether self should be plotted.\n",
      " |  \n",
      " |  ----------------------------------------------------------------------\n",
      " |  Methods inherited from pymc.Node.Node:\n",
      " |  \n",
      " |  __repr__(self)\n",
      " |      Return repr(self).\n",
      " |  \n",
      " |  ----------------------------------------------------------------------\n",
      " |  Data descriptors inherited from pymc.Node.Node:\n",
      " |  \n",
      " |  __dict__\n",
      " |      dictionary for instance variables (if defined)\n",
      " |  \n",
      " |  __weakref__\n",
      " |      list of weak references to the object (if defined)\n",
      " |  \n",
      " |  parents\n",
      " |      Self's parents: the variables referred to in self's declaration.\n",
      "\n"
     ]
    }
   ],
   "source": [
    "discrete_uni_var = pm.DiscreteUniform(\"discrete_uni_var\", 0, 4)\n",
    "# 変数の情報を確認できる\n",
    "discrete_uni_var??\n",
    "help(discrete_uni_var)"
   ]
  },
  {
   "cell_type": "code",
   "execution_count": 16,
   "metadata": {
    "collapsed": false
   },
   "outputs": [],
   "source": [
    "N = 2\n",
    "beta_1 = pm.Uniform(\"beta_1\", 0, 1)\n",
    "beta_2 = pm.Uniform(\"beta_2\", 0, 1)\n",
    "# よりも\n",
    "betas = pm.Uniform(\"betas\", 0, 1, size=N)"
   ]
  },
  {
   "cell_type": "markdown",
   "metadata": {},
   "source": [
    "## random()を呼び出す"
   ]
  },
  {
   "cell_type": "code",
   "execution_count": 17,
   "metadata": {
    "collapsed": false
   },
   "outputs": [
    {
     "name": "stdout",
     "output_type": "stream",
     "text": [
      "Initialized values...\n",
      "lambda_1.value = 2.664\n",
      "lambda_2.value = 1.331\n",
      "tau.value = 4.000 \n",
      "\n",
      "After calling random() on the variables...\n",
      "lambda_1.value = 0.052\n",
      "lambda_2.value = 1.537\n",
      "tau.value = 2.000\n"
     ]
    }
   ],
   "source": [
    "lambda_1 = pm.Exponential(\"lambda_1\", 1)  # prior on first behaviour\n",
    "lambda_2 = pm.Exponential(\"lambda_2\", 1)  # prior on second behaviour\n",
    "tau = pm.DiscreteUniform(\"tau\", lower=0, upper=10)  # prior on behaviour change\n",
    "\n",
    "print(\"Initialized values...\")\n",
    "print(\"lambda_1.value = %.3f\" % lambda_1.value)\n",
    "print(\"lambda_2.value = %.3f\" % lambda_2.value)\n",
    "print(\"tau.value = %.3f\" % tau.value, \"\\n\")\n",
    "\n",
    "lambda_1.random()\n",
    "lambda_2.random()\n",
    "tau.random()\n",
    "\n",
    "print(\"After calling random() on the variables...\")\n",
    "print(\"lambda_1.value = %.3f\" % lambda_1.value)\n",
    "print(\"lambda_2.value = %.3f\" % lambda_2.value)\n",
    "print(\"tau.value = %.3f\" % tau.value)"
   ]
  },
  {
   "cell_type": "markdown",
   "metadata": {},
   "source": [
    "## deterministic変数\n",
    "- PyMCで扱う変数はほぼstocasticなので、区別するためにpymc.deterministicラッパーを使う\n",
    "\n",
    "```python\n",
    "@pm.deterministic\n",
    "def some_deterministic_var(v1=v1,):\n",
    "    pass\n",
    "```\n",
    "- 以降ではオブジェクトsome_deterministic_varを変数として扱う"
   ]
  },
  {
   "cell_type": "code",
   "execution_count": 18,
   "metadata": {
    "collapsed": false
   },
   "outputs": [
    {
     "data": {
      "text/plain": [
       "pymc.PyMCObjects.Deterministic"
      ]
     },
     "execution_count": 18,
     "metadata": {},
     "output_type": "execute_result"
    }
   ],
   "source": [
    "type(lambda_1 + lambda_2)"
   ]
  },
  {
   "cell_type": "markdown",
   "metadata": {},
   "source": [
    "$$ \n",
    "\\begin{eqnarray}\n",
    "\\lambda = \n",
    "\\left\\{\n",
    "\\begin{array}{l}\n",
    "\\lambda_1 (t<\\tau のとき)\\\\\n",
    "\\lambda_2 (t\\geq \\tau のとき)\n",
    "\\end{array}\n",
    "\\right.\n",
    "\\end{eqnarray}\n",
    "$$\n",
    "\n",
    "- もし$\\tau, \\lambda_1, \\lambda_2$がわかれば$\\lambda$の値がわかる"
   ]
  },
  {
   "cell_type": "code",
   "execution_count": 19,
   "metadata": {
    "collapsed": true
   },
   "outputs": [],
   "source": [
    "import numpy as np\n",
    "n_data_points = 5  # in CH1 we had ~70 data points\n",
    "\n",
    "@pm.deterministic\n",
    "def lambda_(tau=tau, lambda_1=lambda_1, lambda_2=lambda_2):\n",
    "    out = np.zeros(n_data_points)\n",
    "    out[:tau] = lambda_1  # lambda before tau is lambda1\n",
    "    out[tau:] = lambda_2  # lambda after tau is lambda2\n",
    "    return out"
   ]
  },
  {
   "cell_type": "markdown",
   "metadata": {},
   "source": [
    "- deterministicデコレータの中へと渡されたstochastic変数は、stochastic変数とは異なりスカラーのように振る舞う\n",
    "- **deterministic関数はキーワード変数で渡さないといけない**\n",
    "\n",
    "```python\n",
    "@pm.deterministic\n",
    "def some_deterministic(stoch=discrete_uni_var):\n",
    "    # return stoch.value**2 ←エラー\n",
    "    return stoch**2  # ←これでよい\n",
    "```"
   ]
  },
  {
   "cell_type": "markdown",
   "metadata": {},
   "source": [
    "## モデルに観測を組み込む"
   ]
  },
  {
   "cell_type": "code",
   "execution_count": 21,
   "metadata": {
    "collapsed": false
   },
   "outputs": [
    {
     "data": {
      "image/png": "[encoded data removed]",
      "text/plain": [
       "<matplotlib.figure.Figure at 0x10ed28da0>"
      ]
     },
     "metadata": {},
     "output_type": "display_data"
    }
   ],
   "source": [
    "figsize(12.5, 4)\n",
    "\n",
    "samples = [lambda_1.random() for i in range(20000)]\n",
    "plt.hist(samples, bins=70, normed=True, histtype=\"stepfilled\")\n",
    "plt.title(\"Prior distribution for $\\lambda_1$\")\n",
    "plt.xlim(0, 8);"
   ]
  },
  {
   "cell_type": "markdown",
   "metadata": {},
   "source": [
    "- データをモデルに組み込む\n",
    "- stochastic変数にはobservedキーワード変数がある\n",
    "- observed:現在の値を固定する(valueを変更不可)"
   ]
  },
  {
   "cell_type": "code",
   "execution_count": 25,
   "metadata": {
    "collapsed": false
   },
   "outputs": [
    {
     "name": "stdout",
     "output_type": "stream",
     "text": [
      "value:  [10  5]\n",
      "calling .random()\n",
      "value:  [10  5]\n"
     ]
    }
   ],
   "source": [
    "data = np.array([10, 5])\n",
    "fixed_variable = pm.Poisson(\"fxd\", 1, value=data, observed=True)\n",
    "print(\"value: \", fixed_variable.value)\n",
    "print(\"calling .random()\")\n",
    "fixed_variable.random()\n",
    "print(\"value: \", fixed_variable.value)"
   ]
  },
  {
   "cell_type": "code",
   "execution_count": 26,
   "metadata": {
    "collapsed": false
   },
   "outputs": [
    {
     "name": "stdout",
     "output_type": "stream",
     "text": [
      "[10 25 15 20 35]\n"
     ]
    }
   ],
   "source": [
    "# We're using some fake data here\n",
    "data = np.array([10, 25, 15, 20, 35])\n",
    "obs = pm.Poisson(\"obs\", lambda_, value=data, observed=True)\n",
    "print(obs.value)"
   ]
  },
  {
   "cell_type": "code",
   "execution_count": 27,
   "metadata": {
    "collapsed": true
   },
   "outputs": [],
   "source": [
    "# 最後にラッピング\n",
    "model = pm.Model([obs, lambda_, lambda_1, lambda_2, tau])"
   ]
  }
 ],
 "metadata": {
  "kernelspec": {
   "display_name": "Python 3",
   "language": "python",
   "name": "python3"
  },
  "language_info": {
   "codemirror_mode": {
    "name": "ipython",
    "version": 3
   },
   "file_extension": ".py",
   "mimetype": "text/x-python",
   "name": "python",
   "nbconvert_exporter": "python",
   "pygments_lexer": "ipython3",
   "version": "3.6.0"
  },
  "toc": {
   "colors": {
    "hover_highlight": "#DAA520",
    "navigate_num": "#000000",
    "navigate_text": "#333333",
    "running_highlight": "#FF0000",
    "selected_highlight": "#FFD700",
    "sidebar_border": "#EEEEEE",
    "wrapper_background": "#FFFFFF"
   },
   "moveMenuLeft": true,
   "nav_menu": {
    "height": "120px",
    "width": "252px"
   },
   "navigate_menu": true,
   "number_sections": true,
   "sideBar": true,
   "threshold": 4,
   "toc_cell": false,
   "toc_section_display": "block",
   "toc_window_display": false,
   "widenNotebook": false
  }
 },
 "nbformat": 4,
 "nbformat_minor": 2
}
