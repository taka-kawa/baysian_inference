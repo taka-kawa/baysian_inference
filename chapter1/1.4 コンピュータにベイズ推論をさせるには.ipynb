{
 "cells": [
  {
   "cell_type": "markdown",
   "metadata": {
    "editable": true
   },
   "source": [
    "# 例題：メッセージ数に変化はあるか？\n",
    "- あるユーザーが毎日受診するメッセージの数という数列が与えられたとする"
   ]
  },
  {
   "cell_type": "code",
   "execution_count": 1,
   "metadata": {
    "code_folding": [],
    "collapsed": false,
    "editable": true
   },
   "outputs": [
    {
     "data": {
      "text/plain": [
       "('../data/txtdata.csv', <http.client.HTTPMessage at 0x111148908>)"
      ]
     },
     "execution_count": 1,
     "metadata": {},
     "output_type": "execute_result"
    }
   ],
   "source": [
    "# install data\n",
    "from IPython.core.pylabtools import figsize\n",
    "from matplotlib import pyplot as plt\n",
    "%matplotlib inline\n",
    "import numpy as np\n",
    "import scipy\n",
    "from os import makedirs\n",
    "from urllib.request import urlretrieve\n",
    "\n",
    "\n",
    "makedirs(\"../data\", exist_ok=True)\n",
    "\n",
    "urlretrieve(\"https://git.io/vXTVC\", \"../data/txtdata.csv\")"
   ]
  },
  {
   "cell_type": "code",
   "execution_count": 2,
   "metadata": {
    "code_folding": [],
    "collapsed": false,
    "editable": true
   },
   "outputs": [
    {
     "data": {
      "text/plain": [
       "(0, 74)"
      ]
     },
     "execution_count": 2,
     "metadata": {},
     "output_type": "execute_result"
    },
    {
     "data": {
      "image/png": "[encoded data removed]",
      "text/plain": [
       "<matplotlib.figure.Figure at 0x10f7fa128>"
      ]
     },
     "metadata": {},
     "output_type": "display_data"
    }
   ],
   "source": [
    "# message\n",
    "figsize(12.5, 3.5)\n",
    "\n",
    "count_data = np.loadtxt('../data/txtdata.csv')\n",
    "n_count_data = len(count_data)\n",
    "plt.bar(np.arange(n_count_data), count_data, color='#348ABD')\n",
    "\n",
    "plt.xlabel(\"Time (days)\")\n",
    "plt.ylabel(\"count of text-msgs received\")\n",
    "plt.title(\"Did the user's texting habits change over time?\")\n",
    "plt.xlim(0, n_count_data)"
   ]
  },
  {
   "cell_type": "markdown",
   "metadata": {
    "editable": true
   },
   "source": [
    "- どのようにモデリングすればいいだろう\n",
    "- i日目のメッセージ数を$C_i$とすると\n",
    "$$ C_i\\sim Poi(\\lambda) $$\n",
    "- ある日($\\tau$)において、パラメータ$\\lambda$が突然大きくなる→パラメータを二つ持つ\n",
    "\n",
    "$$ \n",
    "\\begin{eqnarray}\n",
    "\\lambda = \n",
    "\\left\\{\n",
    "\\begin{array}{l}\n",
    "\\lambda_1 (t<\\tau のとき)\\\\\n",
    "\\lambda_2 (t\\geq \\tau のとき)\n",
    "\\end{array}\n",
    "\\right.\n",
    "\\end{eqnarray}\n",
    "$$\n",
    "\n",
    "- やるべきことは$\\lambda$の推定\n",
    "- それぞれ事前分布を決める必要がある\n",
    "- 指数分布がちょうどいいが、下記のように$\\alpha$のハイパーパラメータを持つ\n",
    "\n",
    "$$\n",
    "\\lambda_1 \\sim Exp(\\alpha)\\\\\n",
    "\\lambda_2 \\sim Exp(\\alpha)\n",
    "$$\n",
    "\n",
    "- ここでは計数データの平均をとって、その逆数とする\n",
    "- なぜか。指数分布で$\\lambda$をモデル化していて、その期待値は下記のようになるから\n",
    "- ポワソン分布の期待値は$\\lambda$\n",
    "\n",
    "$$ \\frac{1}{N} \\sum_{i=0}^N C_i \\approx E[\\lambda | \\alpha]=\\frac{1}{\\alpha}$$\n",
    "\n",
    "- こうすれば事前分布のパラメータに主観が入ることは避けられるし、ハイパーパラメータの値の影響を最小限に抑えられる\n",
    "- $\\tau$に関しては一様分布を使う\n",
    "$$ \\tau \\sim DiscreteUniform(1,70) \\Rightarrow P(\\tau = k)=\\frac{1}{70} $$"
   ]
  },
  {
   "cell_type": "markdown",
   "metadata": {
    "collapsed": true,
    "editable": true
   },
   "source": [
    "# 必殺の一撃:PyMC\n",
    "- PyMCはベイズ推論のためのpythonライブラリ\n",
    "- このような種類のプログラミングを確率的プログラミングという\n",
    "- モデルの構成要素は$(\\tau , \\lambda_1 , \\lambda_2)$を確率変数にしている"
   ]
  },
  {
   "cell_type": "code",
   "execution_count": 4,
   "metadata": {
    "collapsed": false,
    "editable": true
   },
   "outputs": [
    {
     "name": "stdout",
     "output_type": "stream",
     "text": [
      "Random output: 33 5 47\n"
     ]
    }
   ],
   "source": [
    "import pymc as pm\n",
    "# 変数count_dataが計数データを保持\n",
    "alpha = 1.0/count_data.mean()\n",
    "\n",
    "lambda_1 = pm.Exponential(\"lambda_1\", alpha)\n",
    "lambda_2 = pm.Exponential(\"lambda_2\", alpha)\n",
    "\n",
    "tau = pm.DiscreteUniform(\"tau\", lower=0, upper=n_count_data)\n",
    "print(\"Random output:\", tau.random(), tau.random(), tau.random())"
   ]
  },
  {
   "cell_type": "code",
   "execution_count": 6,
   "metadata": {
    "collapsed": true,
    "editable": true
   },
   "outputs": [],
   "source": [
    "@pm.deterministic\n",
    "def lambda_(tau=tau, lambda_1=lambda_1, lambda_2=lambda_2):\n",
    "    out = np.zeros(n_count_data)  # total of data\n",
    "    out[:tau] = lambda_1  # tauより前のlambdaはlambda_1\n",
    "    out[tau:] = lambda_2  # tauより前のlambdaはlambda_2\n",
    "    return out"
   ]
  },
  {
   "cell_type": "markdown",
   "metadata": {
    "editable": true
   },
   "source": [
    "- @pm.deterministicはデコレータで、関数が決定的(2.1.2)であることをPyMCに伝える"
   ]
  },
  {
   "cell_type": "code",
   "execution_count": 7,
   "metadata": {
    "collapsed": true,
    "editable": true
   },
   "outputs": [],
   "source": [
    "observation = pm.Poisson(\"obs\", lambda_, value=count_data, observed=True)\n",
    "model = pm.Model([observation, lambda_1, lambda_2, tau])"
   ]
  },
  {
   "cell_type": "markdown",
   "metadata": {
    "editable": true
   },
   "source": [
    "- ↓MCMCによってサンプリング"
   ]
  },
  {
   "cell_type": "code",
   "execution_count": 8,
   "metadata": {
    "collapsed": false,
    "editable": true
   },
   "outputs": [
    {
     "name": "stdout",
     "output_type": "stream",
     "text": [
      " [-----------------100%-----------------] 40000 of 40000 complete in 5.6 sec"
     ]
    }
   ],
   "source": [
    "# Mysterious code to be explained in Chapter 3.\n",
    "mcmc = pm.MCMC(model)\n",
    "mcmc.sample(40000, 10000, 1)"
   ]
  },
  {
   "cell_type": "code",
   "execution_count": 9,
   "metadata": {
    "collapsed": false,
    "editable": true
   },
   "outputs": [
    {
     "data": {
      "image/png": "[encoded data removed]",
      "text/plain": [
       "<matplotlib.figure.Figure at 0x11c3f0390>"
      ]
     },
     "metadata": {},
     "output_type": "display_data"
    }
   ],
   "source": [
    "lambda_1_samples = mcmc.trace('lambda_1')[:]\n",
    "lambda_2_samples = mcmc.trace('lambda_2')[:]\n",
    "tau_samples = mcmc.trace('tau')[:]\n",
    "\n",
    "figsize(14.5, 10)\n",
    "# histogram of the samples:\n",
    "\n",
    "ax = plt.subplot(311)\n",
    "ax.set_autoscaley_on(False)\n",
    "\n",
    "plt.hist(lambda_1_samples, histtype='stepfilled', bins=30, alpha=0.85,\n",
    "         label=\"posterior of $\\lambda_1$\", color=\"#A60628\", normed=True)\n",
    "plt.legend(loc=\"upper left\")\n",
    "plt.title(r\"\"\"Posterior distributions of the variables\n",
    "    $\\lambda_1,\\;\\lambda_2,\\;\\tau$\"\"\")\n",
    "plt.xlim([15, 30])\n",
    "plt.xlabel(\"$\\lambda_1$ value\")\n",
    "\n",
    "ax = plt.subplot(312)\n",
    "ax.set_autoscaley_on(False)\n",
    "plt.hist(lambda_2_samples, histtype='stepfilled', bins=30, alpha=0.85,\n",
    "         label=\"posterior of $\\lambda_2$\", color=\"#7A68A6\", normed=True)\n",
    "plt.legend(loc=\"upper left\")\n",
    "plt.xlim([15, 30])\n",
    "plt.xlabel(\"$\\lambda_2$ value\")\n",
    "\n",
    "plt.subplot(313)\n",
    "w = 1.0 / tau_samples.shape[0] * np.ones_like(tau_samples)\n",
    "plt.hist(tau_samples, bins=n_count_data, alpha=1,\n",
    "         label=r\"posterior of $\\tau$\",\n",
    "         color=\"#467821\", weights=w, rwidth=2.)\n",
    "plt.xticks(np.arange(n_count_data))\n",
    "\n",
    "plt.legend(loc=\"upper left\")\n",
    "plt.ylim([0, .75])\n",
    "plt.xlim([35, len(count_data) - 20])\n",
    "plt.xlabel(r\"$\\tau$ (in days)\")\n",
    "plt.ylabel(\"probability\");"
   ]
  },
  {
   "cell_type": "markdown",
   "metadata": {
    "editable": true
   },
   "source": [
    "# 解釈\n",
    "- 未知数である二つの$\\lambda$と$\\tau$の分布が得られる\n",
    "- 分散が高ければその値は不確実\n",
    "- $\\lambda_1$は18、$\\lambda_2$は23が妥当であるとわかる\n",
    "- 二つの$\\lambda$の事前分布は指数分布だったのに事後分布は指数分布に見えない→計算したからわかった\n",
    "- $\\tau$をみると45日くらいにユーザーが振る舞いを変えた確率が50%とわかる"
   ]
  },
  {
   "cell_type": "markdown",
   "metadata": {
    "editable": true
   },
   "source": [
    "# 事後分布からサンプリングすると何が嬉しいの？\n",
    "- 事後分布からのサンプルを使って、**t日目$(0\\leq t \\leq 70)$のメッセージ数の期待値を求める**\n",
    "- t日目の$\\lambda$の期待値は何かを求める\n",
    "- iは事後分布からのサンプルを表すインデックスとする。\n",
    "- 日数tが与えられた時、もし$t<\\tau_i$なら$\\lambda_i = \\lambda_{1,i}$ そうでないなら$\\lambda_i = \\lambda_{2,i}$"
   ]
  },
  {
   "cell_type": "code",
   "execution_count": 12,
   "metadata": {
    "collapsed": false,
    "editable": true
   },
   "outputs": [
    {
     "data": {
      "image/png": "[encoded data removed]",
      "text/plain": [
       "<matplotlib.figure.Figure at 0x11caa70b8>"
      ]
     },
     "metadata": {},
     "output_type": "display_data"
    }
   ],
   "source": [
    "figsize(12.5, 5)\n",
    "\n",
    "# tau_samples, lambda_1_samples, lambda_2_samples contain\n",
    "# N samples from the corresponding posterior distribution\n",
    "N = tau_samples.shape[0]\n",
    "expected_texts_per_day = np.zeros(n_count_data)\n",
    "\n",
    "for day in range(0, n_count_data):\n",
    "    # ix is a bool index of all tau samples corresponding to\n",
    "    # the switchpoint occurring prior to value of 'day'\n",
    "    ix = day < tau_samples\n",
    "    \n",
    "    # Each posterior sample corresponds to a value for tau.\n",
    "    # for each day, that value of tau indicates whether we're \"before\"\n",
    "    # (in the lambda1 \"regime\") or\n",
    "    #  \"after\" (in the lambda2 \"regime\") the switchpoint.\n",
    "    # by taking the posterior sample of lambda1/2 accordingly, we can average\n",
    "    # over all samples to get an expected value for lambda on that day.\n",
    "    # As explained, the \"message count\" random variable is Poisson distributed,\n",
    "    # and therefore lambda (the poisson parameter) is the expected value of\n",
    "    # \"message count\".\n",
    "    expected_texts_per_day[day] = (lambda_1_samples[ix].sum()\n",
    "                                   + lambda_2_samples[~ix].sum()) / N\n",
    "    \n",
    "plt.plot(range(n_count_data), expected_texts_per_day, lw=4, color=\"#E24A33\",\n",
    "         label=\"expected number of text-messages received\")\n",
    "plt.xlim(0, n_count_data)\n",
    "plt.xlabel(\"Day\")\n",
    "plt.ylabel(\"Expected # text-messages\")\n",
    "plt.title(\"Expected number of text-messages received\")\n",
    "plt.ylim(0, 60)\n",
    "plt.bar(np.arange(len(count_data)), count_data, color=\"#348ABD\", alpha=0.65,\n",
    "        label=\"observed texts per day\")\n",
    "\n",
    "plt.legend(loc=\"upper left\");"
   ]
  },
  {
   "cell_type": "markdown",
   "metadata": {
    "editable": true
   },
   "source": [
    "# 付録\n",
    "- $\\lambda_1と\\lambda_2$の事後分布は異なっているが、二つの分布が近かったり重なっていたらどうするの\n",
    "- 一つは $P(\\lambda_1 < \\lambda_2|data)$ を計算する  \n",
    "    \n",
    "    - 観測データが与えられた時$\\lambda_1 < \\lambda_2$の確率は？"
   ]
  },
  {
   "cell_type": "code",
   "execution_count": 15,
   "metadata": {
    "collapsed": false,
    "editable": true
   },
   "outputs": [
    {
     "name": "stdout",
     "output_type": "stream",
     "text": [
      "[ True  True  True ...  True  True  True]\n",
      "30000\n",
      "30000\n",
      "1.0\n"
     ]
    }
   ],
   "source": [
    "print(lambda_1_samples < lambda_2_samples)\n",
    "# どのくらい起こりやすいか\n",
    "print((lambda_1_samples < lambda_2_samples).sum())\n",
    "# sample数はいくつ\n",
    "print(lambda_1_samples.shape[0])\n",
    "# 確率\n",
    "print((lambda_1_samples < lambda_2_samples).mean())"
   ]
  },
  {
   "cell_type": "code",
   "execution_count": 16,
   "metadata": {
    "collapsed": false,
    "editable": true
   },
   "outputs": [
    {
     "name": "stdout",
     "output_type": "stream",
     "text": [
      "What is the probability the difference is larger than 1 0.9999666666666667\n",
      "What is the probability the difference is larger than 2 0.9961666666666666\n",
      "What is the probability the difference is larger than 5 0.4782\n",
      "What is the probability the difference is larger than 10 0.0\n"
     ]
    }
   ],
   "source": [
    "# lambdaが1とか2だけ異なっている確率\n",
    "for d in [1, 2, 5, 10]:\n",
    "    v = (abs(lambda_1_samples - lambda_2_samples) >= d).mean()\n",
    "    print(\"What is the probability the difference is larger than {} {}\".format(d, v))"
   ]
  }
 ],
 "metadata": {
  "kernelspec": {
   "display_name": "Python 3",
   "language": "python",
   "name": "python3"
  },
  "language_info": {
   "codemirror_mode": {
    "name": "ipython",
    "version": 3
   },
   "file_extension": ".py",
   "mimetype": "text/x-python",
   "name": "python",
   "nbconvert_exporter": "python",
   "pygments_lexer": "ipython3",
   "version": "3.6.0"
  },
  "toc": {
   "colors": {
    "hover_highlight": "#DAA520",
    "navigate_num": "#000000",
    "navigate_text": "#333333",
    "running_highlight": "#FF0000",
    "selected_highlight": "#FFD700",
    "sidebar_border": "#EEEEEE",
    "wrapper_background": "#FFFFFF"
   },
   "moveMenuLeft": true,
   "nav_menu": {
    "height": "102px",
    "width": "252px"
   },
   "navigate_menu": true,
   "number_sections": true,
   "sideBar": true,
   "threshold": 4,
   "toc_cell": false,
   "toc_section_display": "block",
   "toc_window_display": false,
   "widenNotebook": false
  }
 },
 "nbformat": 4,
 "nbformat_minor": 2
}
